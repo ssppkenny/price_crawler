{
 "cells": [
  {
   "cell_type": "code",
   "execution_count": 1,
   "metadata": {},
   "outputs": [],
   "source": [
    "import pandas as pd"
   ]
  },
  {
   "cell_type": "code",
   "execution_count": 6,
   "metadata": {},
   "outputs": [],
   "source": [
    "df = pd.read_csv(\"butter.txt\", sep=\";\")"
   ]
  },
  {
   "cell_type": "code",
   "execution_count": 57,
   "metadata": {},
   "outputs": [],
   "source": [
    "df = pd.read_csv(\"smör.txt\", sep=\";\")"
   ]
  },
  {
   "cell_type": "code",
   "execution_count": 61,
   "metadata": {},
   "outputs": [],
   "source": [
    "smoer_df = df[df['title'].str.lower().str.contains(\"smör\")]"
   ]
  },
  {
   "cell_type": "code",
   "execution_count": 25,
   "metadata": {},
   "outputs": [],
   "source": [
    "df[\"weight\"] = df[\"weight\"].str.replace(\"g\", \"\")"
   ]
  },
  {
   "cell_type": "code",
   "execution_count": 30,
   "metadata": {},
   "outputs": [],
   "source": [
    "df[\"weight\"] = pd.to_numeric(df[\"weight\"])"
   ]
  },
  {
   "cell_type": "code",
   "execution_count": 33,
   "metadata": {},
   "outputs": [],
   "source": [
    "df[\"weight\"] = df[\"weight\"]/1000"
   ]
  },
  {
   "cell_type": "code",
   "execution_count": 39,
   "metadata": {},
   "outputs": [],
   "source": [
    "df[\"price\"] = pd.to_numeric(df[\"price\"].str.replace(\"–\",\"\"))"
   ]
  },
  {
   "cell_type": "code",
   "execution_count": 41,
   "metadata": {},
   "outputs": [],
   "source": [
    "df[\"price_per_kg\"] = df[\"price\"]/df[\"weight\"]"
   ]
  },
  {
   "cell_type": "code",
   "execution_count": 44,
   "metadata": {},
   "outputs": [
    {
     "data": {
      "text/plain": [
       "1607.921375921376"
      ]
     },
     "execution_count": 44,
     "metadata": {},
     "output_type": "execute_result"
    }
   ],
   "source": [
    "df[\"price_per_kg\"].mean() * 80"
   ]
  },
  {
   "cell_type": "code",
   "execution_count": 48,
   "metadata": {},
   "outputs": [],
   "source": [
    "s = \"{'id': '8719200052802', 'identifier': '8719200052802', 'ean': '8719200052802', 'name': 'Becel Margarin Oliv ', 'manufacturer': 'Becel', 'url': '/handla/varor/mejeri-agg/smor-margarin/bordsask-smor-margarin/becel-margarin-oliv-8719200052802', 'image': {'url': '//res.cloudinary.com/coopsverige/image/upload/419518.jpg', 'path': '//res.cloudinary.com/coopsverige/image/upload/', 'identifier': '419518.jpg'}, 'price': 21.5, 'priceUnit': 'GRM', 'taxRate': 0.0, 'comparativePrice': '53.75', 'comparativeUnit': 'kr/kg', 'variants': [], 'details': {'consumerInformationText': [], 'isEko': False, 'isKrav': False, 'isAgeLimited': False, 'isFairTrade': False, 'isSvanen': False, 'isNyckelhal': True, 'isNyhet': True, 'fromSweden': False, 'isWeightProduct': False, 'origin': '', 'minimumStorageTemperature': '', 'maximumStorageTemperature': '8', 'allergyInfo': [], 'attributes': [{'name': 'Nyckelhalet', 'image': {'url': '//res.cloudinary.com/coopsverige/image/upload/v1618910221/cooponline/Labels%27/nyckelhal_RGB.png', 'path': '//res.cloudinary.com/coopsverige/image/upload/', 'identifier': 'v1618910221/cooponline/Labels%27/nyckelhal_RGB.png'}, 'isEko': False, 'identifier': 'NYCKELHALET'}, {'name': 'NY', 'image': {'url': '//res.cloudinary.com/coopsverige/image/upload/cooponline/badge-nyhet.png', 'path': '//res.cloudinary.com/coopsverige/image/upload/', 'identifier': 'cooponline/badge-nyhet.png'}, 'isEko': False, 'identifier': 'NY'}], 'size': {'size': 400.0, 'unit': 'GRM', 'averagePieceWeight': 0.0, 'packageSizeInformation': '400g'}, 'dinner': {'isDinner': False, 'maxDelivery': 1}, 'isAlwaysLowPrice': False}, 'sections': [[{'id': 6262, 'name': 'Mejeri & Ägg', 'escapedName': 'mejeri-agg'}, {'id': 11204778, 'name': 'Smör & Margarin', 'escapedName': 'smor-margarin'}, {'id': 334719, 'name': 'Bordsask smör & Margarin', 'escapedName': 'bordsask-smor-margarin'}]], 'entityType': 'Product', 'escapedName': 'becel-margarin-oliv', 'richRelevanceClickTrackingUrl': 'https://recs.richrelevance.com/rrserver/apiclick?a=c5aa3f92242c950c&cak=182bc783b3c1fff9&channelId=182bc783b3c1fff9&vg=122181da-43d1-48c5-b7df-ea5e5bcd5398&stid=165&pti=4&pa=44256&pn=0&pos=73&p=8719200052802&s=qyljczfajc0edx4&rid=016001&sgs=customer_private%3APrivate+Customer&mvtId=-1&mvtTs=1621068722950'}\""
   ]
  },
  {
   "cell_type": "code",
   "execution_count": 66,
   "metadata": {},
   "outputs": [
    {
     "name": "stderr",
     "output_type": "stream",
     "text": [
      "<ipython-input-66-291c15a680c2>:1: SettingWithCopyWarning: \n",
      "A value is trying to be set on a copy of a slice from a DataFrame.\n",
      "Try using .loc[row_indexer,col_indexer] = value instead\n",
      "\n",
      "See the caveats in the documentation: https://pandas.pydata.org/pandas-docs/stable/user_guide/indexing.html#returning-a-view-versus-a-copy\n",
      "  smoer_df[\"price\"] = pd.to_numeric(smoer_df[\"price\"].str.replace(\":\", \".\").str.replace(\"-\", \"\"))\n"
     ]
    }
   ],
   "source": [
    "smoer_df[\"price\"] = pd.to_numeric(smoer_df[\"price\"].str.replace(\":\", \".\").str.replace(\"-\", \"\"))"
   ]
  },
  {
   "cell_type": "code",
   "execution_count": 70,
   "metadata": {},
   "outputs": [
    {
     "name": "stderr",
     "output_type": "stream",
     "text": [
      "<ipython-input-70-7e9667cdaf1d>:1: SettingWithCopyWarning: \n",
      "A value is trying to be set on a copy of a slice from a DataFrame.\n",
      "Try using .loc[row_indexer,col_indexer] = value instead\n",
      "\n",
      "See the caveats in the documentation: https://pandas.pydata.org/pandas-docs/stable/user_guide/indexing.html#returning-a-view-versus-a-copy\n",
      "  smoer_df[\"weight\"] = pd.to_numeric(smoer_df[\"weight\"])\n"
     ]
    }
   ],
   "source": [
    "smoer_df[\"weight\"] = pd.to_numeric(smoer_df[\"weight\"])"
   ]
  },
  {
   "cell_type": "code",
   "execution_count": 75,
   "metadata": {},
   "outputs": [
    {
     "name": "stderr",
     "output_type": "stream",
     "text": [
      "<ipython-input-75-cd861b58f875>:1: SettingWithCopyWarning: \n",
      "A value is trying to be set on a copy of a slice from a DataFrame.\n",
      "Try using .loc[row_indexer,col_indexer] = value instead\n",
      "\n",
      "See the caveats in the documentation: https://pandas.pydata.org/pandas-docs/stable/user_guide/indexing.html#returning-a-view-versus-a-copy\n",
      "  smoer_df[\"weight\"] = smoer_df[\"weight\"]/1000\n"
     ]
    }
   ],
   "source": [
    "smoer_df[\"weight\"] = smoer_df[\"weight\"]/1000"
   ]
  },
  {
   "cell_type": "code",
   "execution_count": 117,
   "metadata": {},
   "outputs": [
    {
     "data": {
      "text/plain": [
       "541.3100000000001"
      ]
     },
     "execution_count": 117,
     "metadata": {},
     "output_type": "execute_result"
    }
   ],
   "source": [
    "\n",
    "(sv_df[\"price\"]/sv_df[\"weight\"]).mean() * 8.88"
   ]
  },
  {
   "cell_type": "code",
   "execution_count": 81,
   "metadata": {},
   "outputs": [
    {
     "data": {
      "text/plain": [
       "'/Users/sergey/code/python/price_crawler/project/project'"
      ]
     },
     "execution_count": 81,
     "metadata": {},
     "output_type": "execute_result"
    }
   ],
   "source": [
    "os.getcwd()"
   ]
  },
  {
   "cell_type": "code",
   "execution_count": 146,
   "metadata": {},
   "outputs": [],
   "source": [
    "sv_df = pd.read_csv(\"creme-fraiche.txt\", sep=\";\")"
   ]
  },
  {
   "cell_type": "code",
   "execution_count": 102,
   "metadata": {},
   "outputs": [
    {
     "data": {
      "text/plain": [
       "331.8822353356771"
      ]
     },
     "execution_count": 102,
     "metadata": {},
     "output_type": "execute_result"
    }
   ],
   "source": [
    "np.mean(ru_df[\"price\"]/ru_df[\"weight\"])"
   ]
  },
  {
   "cell_type": "code",
   "execution_count": 148,
   "metadata": {},
   "outputs": [],
   "source": [
    "sv_df[\"price\"] = pd.to_numeric(sv_df[\"price\"].str.replace(\":\", \".\"))"
   ]
  },
  {
   "cell_type": "code",
   "execution_count": 157,
   "metadata": {},
   "outputs": [],
   "source": [
    "sv_df[\"weight\"] = sv_df[\"weight\"].str.replace(\"5dl\", \"5\")"
   ]
  },
  {
   "cell_type": "code",
   "execution_count": 101,
   "metadata": {},
   "outputs": [],
   "source": [
    "ru_df[\"weight\"] = ru_df[\"weight\"]/1000"
   ]
  },
  {
   "cell_type": "code",
   "execution_count": 160,
   "metadata": {},
   "outputs": [],
   "source": [
    "sv_df[\"weight\"] = pd.to_numeric(sv_df[\"weight\"])"
   ]
  },
  {
   "cell_type": "code",
   "execution_count": 167,
   "metadata": {},
   "outputs": [
    {
     "data": {
      "text/plain": [
       "541.3100000000001"
      ]
     },
     "execution_count": 167,
     "metadata": {},
     "output_type": "execute_result"
    }
   ],
   "source": [
    "(sv_df[\"price\"]/sv_df[\"weight\"]).mean() * 8.88"
   ]
  },
  {
   "cell_type": "code",
   "execution_count": 105,
   "metadata": {},
   "outputs": [],
   "source": [
    "prices = np.array([2.2, 2.3, 4.25, 2.85, 2.3, 4.35])\n",
    "weights = np.array([0.2, 0.2, 0.4, 0.2, 0.18, 0.25])"
   ]
  },
  {
   "cell_type": "code",
   "execution_count": 108,
   "metadata": {},
   "outputs": [
    {
     "data": {
      "text/plain": [
       "1034.037037037037"
      ]
     },
     "execution_count": 108,
     "metadata": {},
     "output_type": "execute_result"
    }
   ],
   "source": [
    "np.mean(prices/weights) * 80"
   ]
  },
  {
   "cell_type": "code",
   "execution_count": 126,
   "metadata": {},
   "outputs": [],
   "source": [
    "crawl_prices = pd.DataFrame(pd.concat([pd.Series({\"creme-fraiche\": 331, \"butter\" : 997}), pd.Series({\"creme-fraiche\": 1034, \"butter\" : 1607}),pd.Series({\"creme-fraiche\": 541, \"butter\" : 746} )], axis=1))\n"
   ]
  },
  {
   "cell_type": "code",
   "execution_count": 132,
   "metadata": {},
   "outputs": [],
   "source": [
    "crawl_prices = crawl_prices.rename(columns = {0: \"RU\", 1:\"CH\", 2:\"SV\"})"
   ]
  },
  {
   "cell_type": "code",
   "execution_count": 137,
   "metadata": {},
   "outputs": [],
   "source": [
    "crawl_prices = crawl_prices.transpose()"
   ]
  },
  {
   "cell_type": "code",
   "execution_count": 138,
   "metadata": {},
   "outputs": [
    {
     "data": {
      "text/html": [
       "<div>\n",
       "<style scoped>\n",
       "    .dataframe tbody tr th:only-of-type {\n",
       "        vertical-align: middle;\n",
       "    }\n",
       "\n",
       "    .dataframe tbody tr th {\n",
       "        vertical-align: top;\n",
       "    }\n",
       "\n",
       "    .dataframe thead th {\n",
       "        text-align: right;\n",
       "    }\n",
       "</style>\n",
       "<table border=\"1\" class=\"dataframe\">\n",
       "  <thead>\n",
       "    <tr style=\"text-align: right;\">\n",
       "      <th></th>\n",
       "      <th>creme-fraiche</th>\n",
       "      <th>butter</th>\n",
       "    </tr>\n",
       "  </thead>\n",
       "  <tbody>\n",
       "    <tr>\n",
       "      <th>RU</th>\n",
       "      <td>331</td>\n",
       "      <td>997</td>\n",
       "    </tr>\n",
       "    <tr>\n",
       "      <th>CH</th>\n",
       "      <td>1034</td>\n",
       "      <td>1607</td>\n",
       "    </tr>\n",
       "    <tr>\n",
       "      <th>SV</th>\n",
       "      <td>541</td>\n",
       "      <td>746</td>\n",
       "    </tr>\n",
       "  </tbody>\n",
       "</table>\n",
       "</div>"
      ],
      "text/plain": [
       "    creme-fraiche  butter\n",
       "RU            331     997\n",
       "CH           1034    1607\n",
       "SV            541     746"
      ]
     },
     "execution_count": 138,
     "metadata": {},
     "output_type": "execute_result"
    }
   ],
   "source": [
    "crawl_prices"
   ]
  },
  {
   "cell_type": "code",
   "execution_count": 141,
   "metadata": {},
   "outputs": [],
   "source": [
    "from bs4 import BeautifulSoup"
   ]
  },
  {
   "cell_type": "code",
   "execution_count": 145,
   "metadata": {},
   "outputs": [
    {
     "ename": "KeyError",
     "evalue": "'text'",
     "output_type": "error",
     "traceback": [
      "\u001b[0;31m---------------------------------------------------------------------------\u001b[0m",
      "\u001b[0;31mKeyError\u001b[0m                                  Traceback (most recent call last)",
      "\u001b[0;32m<ipython-input-145-2d06a6a97fe7>\u001b[0m in \u001b[0;36m<module>\u001b[0;34m\u001b[0m\n\u001b[1;32m      2\u001b[0m \u001b[0msoup\u001b[0m \u001b[0;34m=\u001b[0m \u001b[0mBeautifulSoup\u001b[0m\u001b[0;34m(\u001b[0m\u001b[0mhtml\u001b[0m\u001b[0;34m,\u001b[0m \u001b[0;34m'html.parser'\u001b[0m\u001b[0;34m)\u001b[0m\u001b[0;34m\u001b[0m\u001b[0;34m\u001b[0m\u001b[0m\n\u001b[1;32m      3\u001b[0m \u001b[0mels\u001b[0m \u001b[0;34m=\u001b[0m \u001b[0msoup\u001b[0m\u001b[0;34m.\u001b[0m\u001b[0mfind_all\u001b[0m\u001b[0;34m(\u001b[0m\u001b[0;34m\"div\"\u001b[0m\u001b[0;34m,\u001b[0m \u001b[0;34m{\u001b[0m\u001b[0;34m\"class\"\u001b[0m\u001b[0;34m:\u001b[0m \u001b[0;34m\"a\"\u001b[0m\u001b[0;34m}\u001b[0m\u001b[0;34m)\u001b[0m\u001b[0;34m\u001b[0m\u001b[0;34m\u001b[0m\u001b[0m\n\u001b[0;32m----> 4\u001b[0;31m \u001b[0mprint\u001b[0m\u001b[0;34m(\u001b[0m\u001b[0mels\u001b[0m\u001b[0;34m[\u001b[0m\u001b[0;36m0\u001b[0m\u001b[0;34m]\u001b[0m\u001b[0;34m.\u001b[0m\u001b[0mattrs\u001b[0m\u001b[0;34m[\u001b[0m\u001b[0;34m\"text\"\u001b[0m\u001b[0;34m]\u001b[0m\u001b[0;34m)\u001b[0m\u001b[0;34m\u001b[0m\u001b[0;34m\u001b[0m\u001b[0m\n\u001b[0m",
      "\u001b[0;31mKeyError\u001b[0m: 'text'"
     ]
    }
   ],
   "source": [
    "html = \"<div class='a'>test</div>\"\n",
    "soup = BeautifulSoup(html, 'html.parser')\n",
    "els = soup.find_all(\"div\", {\"class\": \"a\"})\n",
    "print(els[0].attrs[\"text\"])"
   ]
  },
  {
   "cell_type": "code",
   "execution_count": null,
   "metadata": {},
   "outputs": [],
   "source": [
    "class Node(object):\n",
    "    def __init__(self, element, attribute, value, return_attribute):\n",
    "        self._element = element\n",
    "        self._value = value\n",
    "        self._attribute = attribute\n",
    "        self._return_attribute = return_attribute\n",
    "    \n",
    "    def get(self, soup):\n",
    "        elements = soup.find_all(self._element, {self._attribute : self._value})\n",
    "        if self._return_attribute == \"text\":\n",
    "            return elements[0].text\n",
    "        else:\n",
    "            return elements[0].attrs[self._return_attribute]\n",
    "        "
   ]
  }
 ],
 "metadata": {
  "kernelspec": {
   "display_name": "Python 3",
   "language": "python",
   "name": "python3"
  },
  "language_info": {
   "codemirror_mode": {
    "name": "ipython",
    "version": 3
   },
   "file_extension": ".py",
   "mimetype": "text/x-python",
   "name": "python",
   "nbconvert_exporter": "python",
   "pygments_lexer": "ipython3",
   "version": "3.9.5"
  }
 },
 "nbformat": 4,
 "nbformat_minor": 4
}
