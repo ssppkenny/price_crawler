{
 "cells": [
  {
   "cell_type": "code",
   "execution_count": 5,
   "id": "e20af94d",
   "metadata": {},
   "outputs": [],
   "source": [
    "import pandas as pd\n",
    "import warnings\n",
    "warnings.filterwarnings('ignore')\n",
    "import requests\n",
    "import sys"
   ]
  },
  {
   "cell_type": "code",
   "execution_count": 9,
   "id": "b74814e8",
   "metadata": {},
   "outputs": [],
   "source": [
    "sys.path.append('/Users/ugxnbmikhs/opt/miniconda3/envs/py39/lib/python3.9/site-packages')\n",
    "\n"
   ]
  },
  {
   "cell_type": "code",
   "execution_count": 10,
   "id": "99c5da9e",
   "metadata": {},
   "outputs": [],
   "source": [
    "import lxml"
   ]
  },
  {
   "cell_type": "code",
   "execution_count": 166,
   "id": "2462ccfd",
   "metadata": {},
   "outputs": [
    {
     "name": "stdout",
     "output_type": "stream",
     "text": [
      "Price_ch 309.08226343319063\n",
      "Price_sv 362.60914227015917\n",
      "Price_ru 145.51380926049885\n"
     ]
    },
    {
     "data": {
      "text/html": [
       "<div>\n",
       "<style scoped>\n",
       "    .dataframe tbody tr th:only-of-type {\n",
       "        vertical-align: middle;\n",
       "    }\n",
       "\n",
       "    .dataframe tbody tr th {\n",
       "        vertical-align: top;\n",
       "    }\n",
       "\n",
       "    .dataframe thead th {\n",
       "        text-align: right;\n",
       "    }\n",
       "</style>\n",
       "<table border=\"1\" class=\"dataframe\">\n",
       "  <thead>\n",
       "    <tr style=\"text-align: right;\">\n",
       "      <th></th>\n",
       "      <th>Product</th>\n",
       "      <th>Price_ru</th>\n",
       "      <th>Price_sv</th>\n",
       "      <th>Price_ch</th>\n",
       "    </tr>\n",
       "  </thead>\n",
       "  <tbody>\n",
       "    <tr>\n",
       "      <th>0</th>\n",
       "      <td>Milk (regular), (0.25 liter)</td>\n",
       "      <td>15.62</td>\n",
       "      <td>25.1370</td>\n",
       "      <td>31.9644</td>\n",
       "    </tr>\n",
       "    <tr>\n",
       "      <th>1</th>\n",
       "      <td>Loaf of Fresh White Bread (125.00 g)</td>\n",
       "      <td>9.24</td>\n",
       "      <td>49.0392</td>\n",
       "      <td>57.3720</td>\n",
       "    </tr>\n",
       "    <tr>\n",
       "      <th>2</th>\n",
       "      <td>Rice (white), (0.10 kg)</td>\n",
       "      <td>7.29</td>\n",
       "      <td>22.4910</td>\n",
       "      <td>22.9488</td>\n",
       "    </tr>\n",
       "    <tr>\n",
       "      <th>3</th>\n",
       "      <td>Eggs (regular) (2.40)</td>\n",
       "      <td>16.76</td>\n",
       "      <td>51.5088</td>\n",
       "      <td>91.7952</td>\n",
       "    </tr>\n",
       "    <tr>\n",
       "      <th>4</th>\n",
       "      <td>Local Cheese (0.10 kg)</td>\n",
       "      <td>54.78</td>\n",
       "      <td>74.7054</td>\n",
       "      <td>190.9668</td>\n",
       "    </tr>\n",
       "    <tr>\n",
       "      <th>5</th>\n",
       "      <td>Chicken Fillets (0.15 kg)</td>\n",
       "      <td>39.42</td>\n",
       "      <td>115.1010</td>\n",
       "      <td>313.9068</td>\n",
       "    </tr>\n",
       "    <tr>\n",
       "      <th>6</th>\n",
       "      <td>Beef Round (0.15 kg) (or Equivalent Back Leg R...</td>\n",
       "      <td>71.51</td>\n",
       "      <td>214.8552</td>\n",
       "      <td>615.5196</td>\n",
       "    </tr>\n",
       "    <tr>\n",
       "      <th>7</th>\n",
       "      <td>Apples (0.30 kg)</td>\n",
       "      <td>30.47</td>\n",
       "      <td>71.0010</td>\n",
       "      <td>95.0736</td>\n",
       "    </tr>\n",
       "    <tr>\n",
       "      <th>8</th>\n",
       "      <td>Banana (0.25 kg)</td>\n",
       "      <td>17.62</td>\n",
       "      <td>49.0392</td>\n",
       "      <td>56.5524</td>\n",
       "    </tr>\n",
       "    <tr>\n",
       "      <th>9</th>\n",
       "      <td>Oranges (0.30 kg)</td>\n",
       "      <td>29.15</td>\n",
       "      <td>67.4730</td>\n",
       "      <td>81.1404</td>\n",
       "    </tr>\n",
       "    <tr>\n",
       "      <th>10</th>\n",
       "      <td>Tomato (0.20 kg)</td>\n",
       "      <td>28.34</td>\n",
       "      <td>53.8902</td>\n",
       "      <td>66.3876</td>\n",
       "    </tr>\n",
       "    <tr>\n",
       "      <th>11</th>\n",
       "      <td>Potato (0.20 kg)</td>\n",
       "      <td>7.11</td>\n",
       "      <td>20.3742</td>\n",
       "      <td>41.7996</td>\n",
       "    </tr>\n",
       "    <tr>\n",
       "      <th>12</th>\n",
       "      <td>Onion (0.10 kg)</td>\n",
       "      <td>3.23</td>\n",
       "      <td>11.1132</td>\n",
       "      <td>20.4900</td>\n",
       "    </tr>\n",
       "    <tr>\n",
       "      <th>13</th>\n",
       "      <td>Lettuce (0.20 head)</td>\n",
       "      <td>13.07</td>\n",
       "      <td>32.8986</td>\n",
       "      <td>37.7016</td>\n",
       "    </tr>\n",
       "  </tbody>\n",
       "</table>\n",
       "</div>"
      ],
      "text/plain": [
       "                                              Product  Price_ru  Price_sv  \\\n",
       "0                        Milk (regular), (0.25 liter)     15.62   25.1370   \n",
       "1                Loaf of Fresh White Bread (125.00 g)      9.24   49.0392   \n",
       "2                             Rice (white), (0.10 kg)      7.29   22.4910   \n",
       "3                               Eggs (regular) (2.40)     16.76   51.5088   \n",
       "4                              Local Cheese (0.10 kg)     54.78   74.7054   \n",
       "5                           Chicken Fillets (0.15 kg)     39.42  115.1010   \n",
       "6   Beef Round (0.15 kg) (or Equivalent Back Leg R...     71.51  214.8552   \n",
       "7                                    Apples (0.30 kg)     30.47   71.0010   \n",
       "8                                    Banana (0.25 kg)     17.62   49.0392   \n",
       "9                                   Oranges (0.30 kg)     29.15   67.4730   \n",
       "10                                   Tomato (0.20 kg)     28.34   53.8902   \n",
       "11                                   Potato (0.20 kg)      7.11   20.3742   \n",
       "12                                    Onion (0.10 kg)      3.23   11.1132   \n",
       "13                                Lettuce (0.20 head)     13.07   32.8986   \n",
       "\n",
       "    Price_ch  \n",
       "0    31.9644  \n",
       "1    57.3720  \n",
       "2    22.9488  \n",
       "3    91.7952  \n",
       "4   190.9668  \n",
       "5   313.9068  \n",
       "6   615.5196  \n",
       "7    95.0736  \n",
       "8    56.5524  \n",
       "9    81.1404  \n",
       "10   66.3876  \n",
       "11   41.7996  \n",
       "12   20.4900  \n",
       "13   37.7016  "
      ]
     },
     "execution_count": 166,
     "metadata": {},
     "output_type": "execute_result"
    },
    {
     "data": {
      "image/png": "[encoded data removed]",
      "text/plain": [
       "<Figure size 432x288 with 1 Axes>"
      ]
     },
     "metadata": {
      "needs_background": "light"
     },
     "output_type": "display_data"
    }
   ],
   "source": [
    "#Reading the data from files\n",
    "#Switzerland\n",
    "df1 = pd.read_csv(\"CH.csv\", sep=\"\\t\", dtype={'Product': str, 'Price': str})\n",
    "df1['Price'] = df1[\"Price\"].str.replace(' Fr.', '')\n",
    "df1['Price'] = df1['Price'].astype(float)\n",
    "df1[\"Price\"] = df1[\"Price\"]*81.96\n",
    "\n",
    "#Russia\n",
    "df2 = pd.read_csv(\"RU.csv\", sep=\"\\t\", dtype={'Product': str, 'Price': str})\n",
    "df2['Price'] = df2[\"Price\"].str.replace(' руб', '')\n",
    "df2['Price'] = df2['Price'].astype(float)\n",
    "\n",
    "#Sweden\n",
    "df3 = pd.read_csv(\"SW.csv\", sep=\"\\t\", dtype={'Product': str, 'Price': str})\n",
    "df3['Price'] = df3[\"Price\"].str.replace(' kr', '')\n",
    "df3['Price'] = df3['Price'].astype(float)\n",
    "df3[\"Price\"] = df3[\"Price\"]*8.82\n",
    "\n",
    "prices_df = df1.join(df2, lsuffix=\"_ch\", rsuffix=\"_ru\").join(df3, rsuffix=\"sv\").drop([\"Product_ru\",\"Product_ch\"], axis=1)\n",
    "prices_df = prices_df.rename(columns={\"Price\": \"Price_sv\"})\n",
    "prices_df = prices_df[[\"Product\", \"Price_ru\", \"Price_sv\", \"Price_ch\"]]\n",
    "prices_df.plot()\n",
    "\n",
    "salaries = {\"Price_ch\":6500*81.96, \"Price_sv\": 35300*8.82, \"Price_ru\": 50000}\n",
    "\n",
    "sums = dict(prices_df.sum())\n",
    "\n",
    "#divide salary with the cost of products\n",
    "for n, s in salaries.items():\n",
    "    print(n, s/sums[n])\n",
    "    \n",
    "prices_df"
   ]
  },
  {
   "cell_type": "code",
   "execution_count": 105,
   "id": "6b89fcfa",
   "metadata": {},
   "outputs": [],
   "source": [
    "index_df = pd.read_csv(\"index.csv\", sep=\"\\t\")"
   ]
  },
  {
   "cell_type": "code",
   "execution_count": 120,
   "id": "c8b4d6df",
   "metadata": {},
   "outputs": [],
   "source": [
    "index_df[\"Ratio\"] = index_df[\"Cost of Living Plus Rent Index\"]/index_df[\"Local Purchasing Power Index\"]"
   ]
  },
  {
   "cell_type": "code",
   "execution_count": 127,
   "id": "19a699e1",
   "metadata": {},
   "outputs": [],
   "source": [
    "moscow = index_df[index_df[\"City\"]==\"Moscow, Russia\"]\n",
    "bern = index_df[index_df[\"City\"]==\"Bern, Switzerland\"]\n",
    "stockholm = index_df[index_df[\"City\"]==\"Stockholm, Sweden\"]\n",
    "krasnodar = index_df[index_df[\"City\"]==\"Krasnodar, Russia\"]\n"
   ]
  },
  {
   "cell_type": "code",
   "execution_count": 161,
   "id": "d2b99ba1",
   "metadata": {},
   "outputs": [],
   "source": [
    "my_cities = pd.concat([moscow, bern, stockholm, krasnodar])\n",
    "my_cities[[\"City\",\"Country\"]] = my_cities[\"City\"].str.split(\",\", expand=True).rename(columns={0: \"City\", 1:\"Country\"})\n",
    "my_cities = my_cities.drop(\"Rank\", axis=1)\n",
    "my_cities = my_cities.set_index([\"City\"])\n"
   ]
  },
  {
   "cell_type": "code",
   "execution_count": 162,
   "id": "5430b05c",
   "metadata": {},
   "outputs": [
    {
     "data": {
      "text/plain": [
       "<AxesSubplot:xlabel='City'>"
      ]
     },
     "execution_count": 162,
     "metadata": {},
     "output_type": "execute_result"
    },
    {
     "data": {
      "image/png": "[encoded data removed]",
      "text/plain": [
       "<Figure size 432x288 with 1 Axes>"
      ]
     },
     "metadata": {
      "needs_background": "light"
     },
     "output_type": "display_data"
    }
   ],
   "source": [
    "my_cities.plot.bar()\n"
   ]
  },
  {
   "cell_type": "code",
   "execution_count": 165,
   "id": "7080a134",
   "metadata": {},
   "outputs": [
    {
     "data": {
      "text/plain": [
       "<AxesSubplot:xlabel='City'>"
      ]
     },
     "execution_count": 165,
     "metadata": {},
     "output_type": "execute_result"
    },
    {
     "data": {
      "image/png": "[encoded data removed]",
      "text/plain": [
       "<Figure size 432x288 with 1 Axes>"
      ]
     },
     "metadata": {
      "needs_background": "light"
     },
     "output_type": "display_data"
    }
   ],
   "source": [
    "my_cities[[\"Local Purchasing Power Index\"]].plot.bar()"
   ]
  },
  {
   "cell_type": "code",
   "execution_count": 11,
   "id": "6aff339e",
   "metadata": {},
   "outputs": [],
   "source": [
    "from html_table_parser.parser import HTMLTableParser"
   ]
  },
  {
   "cell_type": "code",
   "execution_count": 90,
   "id": "afca5fd2",
   "metadata": {},
   "outputs": [],
   "source": [
    "\n",
    "url = \"https://www.coop.ch/de/lebensmittel/fleisch-fisch/charcuterie-wurstwaren/wuerste/rauchwuerste-saucisson/c/m_2367\"\n",
    "r = requests.get(url)\n",
    "from bs4 import BeautifulSoup\n",
    "soup = BeautifulSoup(r.content, 'html.parser')"
   ]
  },
  {
   "cell_type": "code",
   "execution_count": 93,
   "id": "2ab02274",
   "metadata": {},
   "outputs": [
    {
     "name": "stdout",
     "output_type": "stream",
     "text": [
      "       1.77 100g\n",
      "       2.19 100g\n",
      "       3.72 100g\n",
      "       2.04 100g\n",
      "       4.66 100g\n",
      "       2.40 100g\n",
      "       2.65 100g\n",
      "       2.60 100g\n",
      "       1.97 100g\n",
      "       3.64 100g\n",
      "       4.38 100g\n",
      "       3.68 100g\n",
      "       3.17 100g\n",
      "       3.25 100g\n",
      "       3.98 100g\n",
      "       3.70 100g\n",
      "       3.70 100g\n",
      "       4.43 100g\n",
      "       3.98 100g\n",
      "32.584210526315786\n",
      "19\n"
     ]
    }
   ],
   "source": [
    "myitems = soup.find_all(\"li\", {\"class\": \"list-page__item\"})\n",
    "prices = []\n",
    "length = 0\n",
    "for item in myitems:\n",
    "    p = item.find_all(\"div\", class_=\"productTile__price-value-per-weight-text inline\")\n",
    "    if p:\n",
    "        if p[0].text.strip():\n",
    "            \n",
    "            pr, w = p[0].text.split(\"/\")\n",
    "            prices.append(float(pr)/str_to_weight(w))\n",
    "            print(pr,w)\n",
    "        \n",
    "        \n",
    "        \n",
    "    \n",
    "print(sum(prices)/len(prices))\n",
    "print(len(prices))"
   ]
  },
  {
   "cell_type": "code",
   "execution_count": 54,
   "id": "8af2eb23",
   "metadata": {},
   "outputs": [
    {
     "data": {
      "text/plain": [
       "4.95"
      ]
     },
     "execution_count": 54,
     "metadata": {},
     "output_type": "execute_result"
    }
   ],
   "source": [
    "float(mydivs[0].find_all(\"p\", class_=\"productTile__price-value-lead-price\")[0].text.strip())"
   ]
  },
  {
   "cell_type": "code",
   "execution_count": 135,
   "id": "0eacdef1",
   "metadata": {},
   "outputs": [],
   "source": [
    "import re\n",
    "def str_to_weight(s):\n",
    "    m = re.match(r\"(\\d*)(\\w+)\", s)\n",
    "    if m:\n",
    "        w = float(m.group(1)) if m.group(1) else 1.0\n",
    "        e = m.group(2)\n",
    "        if e == 'g' or e == 'г':\n",
    "            return 0.001 * w\n",
    "        elif e == 'kg' or e == 'кг':\n",
    "            return 1 * w\n",
    "    return None\n",
    "    "
   ]
  },
  {
   "cell_type": "code",
   "execution_count": 74,
   "id": "2fd35943",
   "metadata": {},
   "outputs": [],
   "source": [
    "s = \"100g\""
   ]
  },
  {
   "cell_type": "code",
   "execution_count": 77,
   "id": "2e3ce779",
   "metadata": {},
   "outputs": [],
   "source": [
    "m = re.match(r\"(\\d+)(\\w+)\", s)"
   ]
  },
  {
   "cell_type": "code",
   "execution_count": 82,
   "id": "971550a6",
   "metadata": {},
   "outputs": [
    {
     "data": {
      "text/plain": [
       "'g'"
      ]
     },
     "execution_count": 82,
     "metadata": {},
     "output_type": "execute_result"
    }
   ],
   "source": [
    "m.group(2)"
   ]
  },
  {
   "cell_type": "code",
   "execution_count": 138,
   "id": "66c5ad1a",
   "metadata": {},
   "outputs": [
    {
     "name": "stdout",
     "output_type": "stream",
     "text": [
      "[904.8999999999999, 945.829750644884, 918.9, 812.2534230679972, 1265.8227848101264, 1003.2457952198289, 1019.0, 1441.0, 962.3204120357822, 1786.6258295048494, 1312.0131201312013, 1904.0, 2012.6509488211616, 1197.6047904191619, 971.1880867594691, 1307.0152040544147, 756.9, 1788.7087758524315, 974.3423189347192, 885.2168781351431, 868.6496446433273, 2122.4984839296544, 1279.5905310300705, 904.8999999999999]\n",
      "1222.7156990830929\n"
     ]
    }
   ],
   "source": [
    "url = \"https://www.vprok.ru/catalog/1390/kolbasy-vetchina/tip-obrabotki-kolb/vareno-kopchenaya\"\n",
    "r = requests.get(url,headers={'User-Agent': 'Mozilla/5.0'})\n",
    "from bs4 import BeautifulSoup\n",
    "soup = BeautifulSoup(r.content, 'html.parser')\n",
    "\n",
    "prices = []\n",
    "myitems = soup.find_all(\"li\", {\"class\": \"js-catalog-product _additionals xf-catalog__item\"})\n",
    "for item in myitems:\n",
    "    divs = item.find_all(\"div\", class_=\"xf-price xf-product-cost__current js-product__cost\")\n",
    "    if divs:\n",
    "    \n",
    "        if divs[0].attrs[\"data-type\"] == \"шт\":\n",
    "            titles = item.find_all(\"a\", class_ = \"xf-product-title__link\")\n",
    "            if (titles):\n",
    "                title = titles[0].attrs[\"title\"]\n",
    "                m = re.match(r\".* (\\d+)(г)\", title)\n",
    "                if m:\n",
    "                    #print(divs[0].attrs[\"data-cost\"])\n",
    "                    a = (float(m.group(1))*1000)/float(divs[0].attrs[\"data-cost\"])\n",
    "                    prices.append(a)\n",
    "                    \n",
    "                    \n",
    "        else:\n",
    "            mult = str_to_weight(divs[0].attrs[\"data-type\"])\n",
    "            if \"data-cost\" in divs[0].attrs:\n",
    "                a = float(divs[0].attrs[\"data-cost\"])/mult\n",
    "                prices.append(a)\n",
    "            \n",
    "            \n",
    "            \n",
    "print(prices)\n",
    "print(sum(prices)/len(prices))\n",
    "            \n",
    "\n",
    "            \n",
    "            \n",
    "        \n",
    "\n",
    "\n"
   ]
  },
  {
   "cell_type": "code",
   "execution_count": 96,
   "id": "50163149",
   "metadata": {},
   "outputs": [
    {
     "data": {
      "text/plain": [
       "b'<html>\\r\\n<head><title>403 Forbidden</title></head>\\r\\n<body bgcolor=\"white\">\\r\\n<center><h1>403 Forbidden</h1></center>\\r\\n<hr><center>nginx/1.14.1</center>\\r\\n</body>\\r\\n</html>\\r\\n'"
      ]
     },
     "execution_count": 96,
     "metadata": {},
     "output_type": "execute_result"
    }
   ],
   "source": [
    "r.content"
   ]
  },
  {
   "cell_type": "code",
   "execution_count": null,
   "id": "204899b9",
   "metadata": {},
   "outputs": [],
   "source": [
    "productcard-container"
   ]
  },
  {
   "cell_type": "code",
   "execution_count": 160,
   "id": "1cfb9f8f",
   "metadata": {},
   "outputs": [
    {
     "name": "stdout",
     "output_type": "stream",
     "text": [
      "[204.76190476190476, 488.0, 314.2857142857143, 488.0, 352.0, 298.0, 449.99999999999994, 326.1904761904762, 764.2857142857142, 990.9090909090909, 317.77777777777777, 785.7142857142857, 650.0, 283.33333333333337, 655.5555555555555]\n",
      "491.25425685425677\n"
     ]
    }
   ],
   "source": [
    "url = \"https://www.citygross.se/matvaror/chark/rimmat-och-rokt\"\n",
    "r = requests.get(url,headers={'User-Agent': 'Mozilla/5.0'})\n",
    "from bs4 import BeautifulSoup\n",
    "soup = BeautifulSoup(r.content, 'html.parser')\n",
    "\n",
    "prices = []\n",
    "myitems = soup.find_all(\"a\", {\"class\": \"productcard-container\"})\n",
    "\n",
    "for item in myitems:\n",
    "    try:\n",
    "        \n",
    "        value = item.find_all(\"div\", {\"class\": \"value__integer-wrapper\"})\n",
    "        price = float(value[0].find_all(\"span\", class_=\"integer\")[0].text)\n",
    "\n",
    "        fraction = item.find_all(\"div\", {\"class\": \"value__fraction-unit-wrapper\"})\n",
    "        fraction = float(fraction[0].find_all(\"span\", class_=\"fractions\")[0].text)\n",
    "\n",
    "\n",
    "        details = item.find_all(\"div\", class_=\"details\")\n",
    "        txt = details[0].find_all(\"h3\")[0].text\n",
    "        mult = str_to_weight(txt.split(\", \")[1])\n",
    "        prices.append((price + fraction)/mult)\n",
    "    except:\n",
    "        continue\n",
    "    \n",
    "\n",
    "print(prices)\n",
    "print(sum(prices)/len(prices))\n",
    "            \n",
    "    \n",
    "\n"
   ]
  },
  {
   "cell_type": "code",
   "execution_count": 2,
   "id": "5bccfd6f",
   "metadata": {},
   "outputs": [],
   "source": [
    "s = \"https://produkte.migros.ch/sortiment/supermarkt/lebensmittel\"\n",
    "url, *page = s.split(\"?\")"
   ]
  },
  {
   "cell_type": "code",
   "execution_count": 15,
   "id": "b4714e3e-b1c2-4e3e-8a46-c3eefee9437b",
   "metadata": {},
   "outputs": [],
   "source": [
    "import requests\n",
    "import sys\n",
    "from bs4 import BeautifulSoup\n",
    "import sys"
   ]
  },
  {
   "cell_type": "code",
   "execution_count": 14,
   "id": "f5843c8e-1478-45d8-ac11-2b864e1aa58d",
   "metadata": {},
   "outputs": [],
   "source": [
    "sys.path.append('/Users/ugxnbmikhs/opt/miniconda3/envs/py38/lib/python3.8/site-packages')"
   ]
  },
  {
   "cell_type": "code",
   "execution_count": 16,
   "id": "37e053a2-f544-46b8-af25-fc1d56d0856a",
   "metadata": {},
   "outputs": [],
   "source": [
    "url = \"https://produkte.migros.ch/sortiment/supermarkt/lebensmittel\"\n",
    "r = requests.get(url,headers={'User-Agent': 'Mozilla/5.0'})\n",
    "from bs4 import BeautifulSoup\n",
    "soup = BeautifulSoup(r.content, 'html.parser')\n",
    "\n",
    "prices = []\n",
    "myitems = soup.find_all(\"article\", {\"data-testid\": \"msrc-articles--article\"})\n",
    "\n",
    "for item in myitems:\n",
    "   print(item)"
   ]
  },
  {
   "cell_type": "code",
   "execution_count": null,
   "id": "92deab52-31d4-4d90-a48a-93b9a7c129e4",
   "metadata": {},
   "outputs": [],
   "source": []
  }
 ],
 "metadata": {
  "kernelspec": {
   "display_name": "Python 3",
   "language": "python",
   "name": "python3"
  },
  "language_info": {
   "codemirror_mode": {
    "name": "ipython",
    "version": 3
   },
   "file_extension": ".py",
   "mimetype": "text/x-python",
   "name": "python",
   "nbconvert_exporter": "python",
   "pygments_lexer": "ipython3",
   "version": "3.9.2"
  }
 },
 "nbformat": 4,
 "nbformat_minor": 5
}
